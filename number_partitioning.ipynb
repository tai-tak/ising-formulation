{
 "cells": [
  {
   "cell_type": "markdown",
   "metadata": {},
   "source": [
    "# Ising Formulation of Number Partitioning Problem"
   ]
  },
  {
   "cell_type": "markdown",
   "metadata": {},
   "source": [
    "## Ising Formulation"
   ]
  },
  {
   "cell_type": "markdown",
   "metadata": {},
   "source": [
    "$$\n",
    "H = \\left( \\sum_{i=1}^{N}n_i s_i \\right)^2 = \\left( \\sum_{s_{i}=1}^{N} n_i - \\sum_{s_{i}=-1}^{N} n_i \\right)^2 =\\sum_{i=1}^{N} \\sum_{j=1}^{N} n_i n_j s_i s_j \n",
    "$$"
   ]
  },
  {
   "cell_type": "markdown",
   "metadata": {},
   "source": [
    "$n_i\\ (i=1,\\dots, N)$ represents the element in the list of numbers to be divided.\n",
    "\n",
    "\n",
    "(details : https://www.frontiersin.org/articles/10.3389/fphy.2014.00005/full)"
   ]
  },
  {
   "cell_type": "markdown",
   "metadata": {},
   "source": [
    "## Solving Number Partitioning Problem with D-Wave machine"
   ]
  },
  {
   "cell_type": "markdown",
   "metadata": {},
   "source": [
    "Install the necessary libraries."
   ]
  },
  {
   "cell_type": "code",
   "execution_count": 48,
   "metadata": {},
   "outputs": [],
   "source": [
    "import numpy as np\n",
    "import random \n",
    "import matplotlib.pyplot as plt\n",
    "import pandas as pd\n",
    "from dwave.system import DWaveCliqueSampler"
   ]
  },
  {
   "cell_type": "markdown",
   "metadata": {},
   "source": [
    "Define a function to randomly generate a list of numbers to be partitioned."
   ]
  },
  {
   "cell_type": "code",
   "execution_count": 2,
   "metadata": {},
   "outputs": [],
   "source": [
    "def make_number_partitioning_problem(N, number_range):\n",
    "    J = np.zeros((N, N))\n",
    "    h = np.zeros(N)\n",
    "    number_list = [random.choice(number_range) for i in range(N)]  # Randomly generates a list of numbers to be partitioned\n",
    "    for i in range(N):\n",
    "        h[i] = number_list[i]**2\n",
    "        for j in range(N):\n",
    "            if i < j:\n",
    "                J[i, j] = number_list[i] * number_list[j]\n",
    "                J[j, i] = J[i, j]\n",
    "    return h, J, number_list"
   ]
  },
  {
   "cell_type": "markdown",
   "metadata": {},
   "source": [
    "Given a spin configuration (the answer to the problem), define a function to compute the Hamiltonian of a number-partitioning problem."
   ]
  },
  {
   "cell_type": "code",
   "execution_count": 44,
   "metadata": {},
   "outputs": [],
   "source": [
    "def compute_hamiltonian(s_np, J_np, h_np, N):\n",
    "    return np.sum([h_np[i] if i==j else J_np[i,j] * s_np[i] * s_np[j] for i in range(N) for j in range(N)])"
   ]
  },
  {
   "cell_type": "markdown",
   "metadata": {},
   "source": [
    "Set the range of the list of numbers to be divided."
   ]
  },
  {
   "cell_type": "code",
   "execution_count": 16,
   "metadata": {},
   "outputs": [],
   "source": [
    "number_range = [1, 2, 3, 4, 5]"
   ]
  },
  {
   "cell_type": "markdown",
   "metadata": {},
   "source": [
    "Create one problem randomly. In this case, the size of the problem is 10."
   ]
  },
  {
   "cell_type": "code",
   "execution_count": 17,
   "metadata": {},
   "outputs": [],
   "source": [
    "N = 10\n",
    "h_np = np.zeros(N)\n",
    "J_np = np.zeros((N, N))\n",
    "number = np.zeros(N)\n",
    "h_np, J_np, number_list = make_number_partitioning_problem(N=N, number_range=number_range)"
   ]
  },
  {
   "cell_type": "markdown",
   "metadata": {},
   "source": [
    "Specify the solver to be used and write the API token."
   ]
  },
  {
   "cell_type": "code",
   "execution_count": 5,
   "metadata": {},
   "outputs": [],
   "source": [
    "from dwave.system import DWaveCliqueSampler\n",
    "sampler_config = {\"solver\": \"Advantage_system6.1\", \"token\": \"YOUR TOKEN\"}\n",
    "sampler = DWaveCliqueSampler(**sampler_config)"
   ]
  },
  {
   "cell_type": "markdown",
   "metadata": {},
   "source": [
    "Get the solution from the d-wave machine."
   ]
  },
  {
   "cell_type": "code",
   "execution_count": 18,
   "metadata": {},
   "outputs": [],
   "source": [
    "answer = sampler.sample_ising(h_np, J_np, num_reads=100)\n"
   ]
  },
  {
   "cell_type": "markdown",
   "metadata": {},
   "source": [
    "The following is a tabular representation of the partitions obtained."
   ]
  },
  {
   "cell_type": "code",
   "execution_count": 40,
   "metadata": {},
   "outputs": [
    {
     "data": {
      "text/html": [
       "<div>\n",
       "<style scoped>\n",
       "    .dataframe tbody tr th:only-of-type {\n",
       "        vertical-align: middle;\n",
       "    }\n",
       "\n",
       "    .dataframe tbody tr th {\n",
       "        vertical-align: top;\n",
       "    }\n",
       "\n",
       "    .dataframe thead th {\n",
       "        text-align: right;\n",
       "    }\n",
       "</style>\n",
       "<table border=\"1\" class=\"dataframe\">\n",
       "  <thead>\n",
       "    <tr style=\"text-align: right;\">\n",
       "      <th></th>\n",
       "      <th>0</th>\n",
       "      <th>1</th>\n",
       "      <th>2</th>\n",
       "      <th>3</th>\n",
       "      <th>4</th>\n",
       "      <th>5</th>\n",
       "      <th>6</th>\n",
       "      <th>7</th>\n",
       "      <th>8</th>\n",
       "      <th>9</th>\n",
       "    </tr>\n",
       "  </thead>\n",
       "  <tbody>\n",
       "    <tr>\n",
       "      <th>number</th>\n",
       "      <td>5</td>\n",
       "      <td>5</td>\n",
       "      <td>2</td>\n",
       "      <td>4</td>\n",
       "      <td>5</td>\n",
       "      <td>1</td>\n",
       "      <td>1</td>\n",
       "      <td>5</td>\n",
       "      <td>1</td>\n",
       "      <td>4</td>\n",
       "    </tr>\n",
       "    <tr>\n",
       "      <th>Group</th>\n",
       "      <td>-1</td>\n",
       "      <td>1</td>\n",
       "      <td>1</td>\n",
       "      <td>1</td>\n",
       "      <td>-1</td>\n",
       "      <td>1</td>\n",
       "      <td>1</td>\n",
       "      <td>-1</td>\n",
       "      <td>1</td>\n",
       "      <td>-1</td>\n",
       "    </tr>\n",
       "  </tbody>\n",
       "</table>\n",
       "</div>"
      ],
      "text/plain": [
       "        0  1  2  3  4  5  6  7  8  9\n",
       "number  5  5  2  4  5  1  1  5  1  4\n",
       "Group  -1  1  1  1 -1  1  1 -1  1 -1"
      ]
     },
     "execution_count": 40,
     "metadata": {},
     "output_type": "execute_result"
    }
   ],
   "source": [
    "table_list = [number_list, [answer.first.sample[i] for i in range(N)]]\n",
    "df = pd.DataFrame(table_list)\n",
    "df.index = [\"number\", \"Group\"]\n",
    "df"
   ]
  },
  {
   "cell_type": "markdown",
   "metadata": {},
   "source": [
    "Calculate the sum for a group with a spin value of +1 ( index : 0, 4, 7, 9 ).\n",
    "$$5+5+5+4 = 19$$\n",
    "Next, calculate the sum for a group with a spin value of -1 ( index : 1, 2, 3, 5, 6, 8 ).\n",
    "$$5+2+4+1+1+1 = 14$$\n",
    "\n",
    "Thus, the difference between the group values is$$19-14=5$$"
   ]
  },
  {
   "cell_type": "markdown",
   "metadata": {},
   "source": [
    "The square of this value ($5^2=25$) corresponds to the value of the Hamiltonian $H$."
   ]
  },
  {
   "cell_type": "code",
   "execution_count": 47,
   "metadata": {},
   "outputs": [
    {
     "name": "stdout",
     "output_type": "stream",
     "text": [
      "25.0\n"
     ]
    }
   ],
   "source": [
    "hamiltonian_np = compute_hamiltonian(answer.first.sample, J_np, h_np, N)\n",
    "print(hamiltonian_np)"
   ]
  }
 ],
 "metadata": {
  "kernelspec": {
   "display_name": "Python 3.9.7 ('base')",
   "language": "python",
   "name": "python3"
  },
  "language_info": {
   "codemirror_mode": {
    "name": "ipython",
    "version": 3
   },
   "file_extension": ".py",
   "mimetype": "text/x-python",
   "name": "python",
   "nbconvert_exporter": "python",
   "pygments_lexer": "ipython3",
   "version": "3.9.7"
  },
  "orig_nbformat": 4,
  "vscode": {
   "interpreter": {
    "hash": "6279fdd9843a1210a591d2f010bb7cb1e06cac4416e8bfa37570e269ec97713a"
   }
  }
 },
 "nbformat": 4,
 "nbformat_minor": 2
}
